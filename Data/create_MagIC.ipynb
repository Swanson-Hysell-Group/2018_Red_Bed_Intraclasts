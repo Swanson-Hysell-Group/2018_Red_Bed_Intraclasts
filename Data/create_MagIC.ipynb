{
 "cells": [
  {
   "cell_type": "markdown",
   "metadata": {},
   "source": [
    "# Create MagIC contribution\n",
    "\n",
    "This notebook combines data from BRa and BRIC to create a MagIC contribution."
   ]
  },
  {
   "cell_type": "code",
   "execution_count": 1,
   "metadata": {},
   "outputs": [],
   "source": [
    "import pmagpy.ipmag as ipmag"
   ]
  },
  {
   "cell_type": "code",
   "execution_count": 2,
   "metadata": {},
   "outputs": [
    {
     "name": "stdout",
     "output_type": "stream",
     "text": [
      "-I- Using online data model\n",
      "-I- Getting method codes from earthref.org\n",
      "-I- Importing controlled vocabularies from https://earthref.org\n",
      "-I- writing measurements records to /Users/Laurentia/0000_Github/2018_Red_Bed_Intraclasts/Data/combined_MagIC/measurements.txt\n",
      "-I- 2644 records written to measurements file\n"
     ]
    },
    {
     "data": {
      "text/plain": [
       "'/Users/Laurentia/0000_Github/2018_Red_Bed_Intraclasts/Data/combined_MagIC/measurements.txt'"
      ]
     },
     "execution_count": 2,
     "metadata": {},
     "output_type": "execute_result"
    }
   ],
   "source": [
    "filenames=['BRa/measurements.txt','BRIC/measurements.txt']\n",
    "outfile='combined_MagIC/measurements.txt'\n",
    "ipmag.combine_magic(filenames,outfile)"
   ]
  },
  {
   "cell_type": "code",
   "execution_count": 3,
   "metadata": {},
   "outputs": [
    {
     "name": "stdout",
     "output_type": "stream",
     "text": [
      "-I- writing specimens records to /Users/Laurentia/0000_Github/2018_Red_Bed_Intraclasts/Data/combined_MagIC/specimens.txt\n",
      "-I- 414 records written to specimens file\n"
     ]
    },
    {
     "data": {
      "text/plain": [
       "'/Users/Laurentia/0000_Github/2018_Red_Bed_Intraclasts/Data/combined_MagIC/specimens.txt'"
      ]
     },
     "execution_count": 3,
     "metadata": {},
     "output_type": "execute_result"
    }
   ],
   "source": [
    "filenames=['BRa/specimens.txt','BRIC/specimens.txt']\n",
    "outfile='combined_MagIC/specimens.txt'\n",
    "ipmag.combine_magic(filenames,outfile)"
   ]
  },
  {
   "cell_type": "code",
   "execution_count": 4,
   "metadata": {},
   "outputs": [
    {
     "name": "stdout",
     "output_type": "stream",
     "text": [
      "-I- writing samples records to /Users/Laurentia/0000_Github/2018_Red_Bed_Intraclasts/Data/combined_MagIC/samples.txt\n",
      "-I- 74 records written to samples file\n"
     ]
    },
    {
     "data": {
      "text/plain": [
       "'/Users/Laurentia/0000_Github/2018_Red_Bed_Intraclasts/Data/combined_MagIC/samples.txt'"
      ]
     },
     "execution_count": 4,
     "metadata": {},
     "output_type": "execute_result"
    }
   ],
   "source": [
    "filenames=['BRa/samples.txt','BRIC/samples.txt']\n",
    "outfile='combined_MagIC/samples.txt'\n",
    "ipmag.combine_magic(filenames,outfile)"
   ]
  },
  {
   "cell_type": "code",
   "execution_count": 5,
   "metadata": {},
   "outputs": [
    {
     "name": "stdout",
     "output_type": "stream",
     "text": [
      "-I- writing sites records to /Users/Laurentia/0000_Github/2018_Red_Bed_Intraclasts/Data/combined_MagIC/sites.txt\n",
      "-I- 8 records written to sites file\n"
     ]
    },
    {
     "data": {
      "text/plain": [
       "'/Users/Laurentia/0000_Github/2018_Red_Bed_Intraclasts/Data/combined_MagIC/sites.txt'"
      ]
     },
     "execution_count": 5,
     "metadata": {},
     "output_type": "execute_result"
    }
   ],
   "source": [
    "filenames=['BRa/sites.txt','BRIC/sites.txt']\n",
    "outfile='combined_MagIC/sites.txt'\n",
    "ipmag.combine_magic(filenames,outfile)"
   ]
  },
  {
   "cell_type": "code",
   "execution_count": 6,
   "metadata": {},
   "outputs": [
    {
     "name": "stdout",
     "output_type": "stream",
     "text": [
      "-I- writing locations records to /Users/Laurentia/0000_Github/2018_Red_Bed_Intraclasts/Data/combined_MagIC/locations.txt\n",
      "-I- 2 records written to locations file\n"
     ]
    },
    {
     "data": {
      "text/plain": [
       "'/Users/Laurentia/0000_Github/2018_Red_Bed_Intraclasts/Data/combined_MagIC/locations.txt'"
      ]
     },
     "execution_count": 6,
     "metadata": {},
     "output_type": "execute_result"
    }
   ],
   "source": [
    "filenames=['BRa/locations.txt','BRIC/locations.txt']\n",
    "outfile='combined_MagIC/locations.txt'\n",
    "ipmag.combine_magic(filenames,outfile)"
   ]
  },
  {
   "cell_type": "code",
   "execution_count": null,
   "metadata": {},
   "outputs": [],
   "source": [
    "pd.read_csv()"
   ]
  },
  {
   "cell_type": "markdown",
   "metadata": {},
   "source": [
    "## Manual changes\n",
    "\n",
    "- delete orientation_flag column in samples.txt\n",
    "- delete age_sigma column in sites.txt\n",
    "- Years Cal BP to Ma in sites.txt\n",
    "- add more sig figs to latitude and longitude for BRa (46.3852, -90.6337) and BRIC (46.3866, -90.6373) to sites.txt\n",
    "- update location to be a single location with lat/lon bounds associated with the above sites in locations.txt\n",
    "\n",
    "After these changes, there were still numerous validation errors in the location table which were fixed:\n",
    "\n",
    "*The locations table is missing required column \"location_type\". *\n",
    "\n",
    "*The locations table is missing required column \"geologic_classes\".*\n",
    "\n",
    "*The locations table is missing required column \"lithologies\". (Row: 1)*\n",
    "\n",
    "*The locations table is missing required column \"age\" since columns \"age_low\",\"age_high\" are empty. (Row: 1)*\n",
    "\n",
    "*The locations table is missing required column \"age_low\" since column \"age\" is empty. (Row*\n",
    "\n",
    "*The locations table is missing required column \"age_high\" since column \"age\" is empty. (Row: 1)*\n",
    "\n",
    "*The locations table is missing required column \"age_unit\". (Row: 1)*\n",
    "\n",
    "\n",
    "\n",
    "The sites table is missing required column \"geologic_classes\". (Rows: 1-8)\n",
    "**ADDED**\n",
    "The sites table is missing required column \"geologic_types\". (Rows: 1-8)\n",
    "**ADDED — note this is \"sample material types\"**\n",
    "The sites table is missing required column \"lithologies\". (Rows: 1-8)\n",
    "**ADDED**\n",
    "The sites table column \"criteria\" value \"ACCEPT\" is not present in table \"criteria\" column \"criterion\". (Rows: 1-8)\n",
    "**DELETED COLUMN**\n",
    "\n",
    "The samples table is missing required column \"result_quality\". (Rows: 1-74)\n",
    "**ADDED**\n",
    "\n",
    "The specimens table column \"experiments\" value \"LP-DIR-T\" is not present in table \"measurements\" column \"experiment\". (Rows: 1-414)\n",
    "**DELETED THE EXPERIMENT COLUMN**\n",
    "The measurements table column \"specimen\" value \"unknown\" is not present in table \"specimens\" column \"specimen\". (Row: 1270)\n",
    "**DELETED ONE ROW WITHOUT DATA**\n"
   ]
  },
  {
   "cell_type": "code",
   "execution_count": 11,
   "metadata": {},
   "outputs": [
    {
     "data": {
      "text/plain": [
       "\u001b[0;31mSignature:\u001b[0m\n",
       "\u001b[0mipmag\u001b[0m\u001b[0;34m.\u001b[0m\u001b[0mupload_magic\u001b[0m\u001b[0;34m(\u001b[0m\u001b[0;34m\u001b[0m\n",
       "\u001b[0;34m\u001b[0m    \u001b[0mconcat\u001b[0m\u001b[0;34m=\u001b[0m\u001b[0;32mFalse\u001b[0m\u001b[0;34m,\u001b[0m\u001b[0;34m\u001b[0m\n",
       "\u001b[0;34m\u001b[0m    \u001b[0mdir_path\u001b[0m\u001b[0;34m=\u001b[0m\u001b[0;34m'.'\u001b[0m\u001b[0;34m,\u001b[0m\u001b[0;34m\u001b[0m\n",
       "\u001b[0;34m\u001b[0m    \u001b[0mdmodel\u001b[0m\u001b[0;34m=\u001b[0m\u001b[0;32mNone\u001b[0m\u001b[0;34m,\u001b[0m\u001b[0;34m\u001b[0m\n",
       "\u001b[0;34m\u001b[0m    \u001b[0mvocab\u001b[0m\u001b[0;34m=\u001b[0m\u001b[0;34m''\u001b[0m\u001b[0;34m,\u001b[0m\u001b[0;34m\u001b[0m\n",
       "\u001b[0;34m\u001b[0m    \u001b[0mcontribution\u001b[0m\u001b[0;34m=\u001b[0m\u001b[0;32mNone\u001b[0m\u001b[0;34m,\u001b[0m\u001b[0;34m\u001b[0m\n",
       "\u001b[0;34m\u001b[0m    \u001b[0minput_dir_path\u001b[0m\u001b[0;34m=\u001b[0m\u001b[0;34m''\u001b[0m\u001b[0;34m,\u001b[0m\u001b[0;34m\u001b[0m\n",
       "\u001b[0;34m\u001b[0m\u001b[0;34m)\u001b[0m\u001b[0;34m\u001b[0m\u001b[0;34m\u001b[0m\u001b[0m\n",
       "\u001b[0;31mDocstring:\u001b[0m\n",
       "Finds all magic files in a given directory, and compiles them into an\n",
       "upload.txt file which can be uploaded into the MagIC database.\n",
       "Parameters\n",
       "----------\n",
       "concat : boolean where True means do concatenate to upload.txt file in dir_path,\n",
       "    False means write a new file (default is False)\n",
       "dir_path : string for input/output directory (default \".\")\n",
       "dmodel : pmagpy data_model.DataModel object,\n",
       "    if not provided will be created (default None)\n",
       "vocab : pmagpy controlled_vocabularies3.Vocabulary object,\n",
       "    if not provided will be created (default None)\n",
       "contribution : pmagpy contribution_builder.Contribution object, if not provided will be created\n",
       "    in directory (default None)\n",
       "input_dir_path : str, default \"\"\n",
       "    path for intput files if different from output dir_path (default is same)\n",
       "\n",
       "Returns\n",
       "----------\n",
       "tuple of either: (False, error_message, errors, all_failing_items)\n",
       "if there was a problem creating/validating the upload file\n",
       "or: (filename, '', None, None) if the file creation was fully successful.\n",
       "\u001b[0;31mFile:\u001b[0m      ~/PmagPy/pmagpy/ipmag.py\n",
       "\u001b[0;31mType:\u001b[0m      function\n"
      ]
     },
     "metadata": {},
     "output_type": "display_data"
    }
   ],
   "source": [
    "ipmag.upload_magic?"
   ]
  },
  {
   "cell_type": "code",
   "execution_count": 13,
   "metadata": {},
   "outputs": [
    {
     "name": "stdout",
     "output_type": "stream",
     "text": [
      "-I- Removing old error files from /Users/Laurentia/0000_Github/2018_Red_Bed_Intraclasts/Data/combined_MagIC: locations_errors.txt, samples_errors.txt, specimens_errors.txt, sites_errors.txt, ages_errors.txt, measurements_errors.txt, criteria_errors.txt, contribution_errors.txt, images_errors.txt\n",
      "-W- Column 'core_depth' isn't in samples table, skipping it\n",
      "-W- Column 'composite_depth' isn't in samples table, skipping it\n",
      "-W- Invalid or missing column names, could not propagate columns\n",
      "-I- locations file successfully read in\n",
      "-I- Validating locations\n",
      "-I- No row errors found!\n",
      "-I- appending locations data to /Users/Laurentia/0000_Github/2018_Red_Bed_Intraclasts/Data/combined_MagIC/upload.txt\n",
      "-I- 1 records written to locations file\n",
      "-I- locations written to  /Users/Laurentia/0000_Github/2018_Red_Bed_Intraclasts/Data/combined_MagIC/upload.txt\n",
      "-I- measurements file successfully read in\n",
      "-I- Validating measurements\n",
      "-I- No row errors found!\n",
      "-I- appending measurements data to /Users/Laurentia/0000_Github/2018_Red_Bed_Intraclasts/Data/combined_MagIC/upload.txt\n",
      "-I- 2643 records written to measurements file\n",
      "-I- measurements written to  /Users/Laurentia/0000_Github/2018_Red_Bed_Intraclasts/Data/combined_MagIC/upload.txt\n",
      "-I- samples file successfully read in\n",
      "-I- Validating samples\n",
      "-I- No row errors found!\n",
      "-I- appending samples data to /Users/Laurentia/0000_Github/2018_Red_Bed_Intraclasts/Data/combined_MagIC/upload.txt\n",
      "-I- 74 records written to samples file\n",
      "-I- samples written to  /Users/Laurentia/0000_Github/2018_Red_Bed_Intraclasts/Data/combined_MagIC/upload.txt\n",
      "-I- sites file successfully read in\n",
      "-I- Validating sites\n",
      "-I- No row errors found!\n",
      "-I- appending sites data to /Users/Laurentia/0000_Github/2018_Red_Bed_Intraclasts/Data/combined_MagIC/upload.txt\n",
      "-I- 8 records written to sites file\n",
      "-I- sites written to  /Users/Laurentia/0000_Github/2018_Red_Bed_Intraclasts/Data/combined_MagIC/upload.txt\n",
      "-I- specimens file successfully read in\n",
      "-I- Validating specimens\n",
      "-I- No row errors found!\n",
      "-I- appending specimens data to /Users/Laurentia/0000_Github/2018_Red_Bed_Intraclasts/Data/combined_MagIC/upload.txt\n",
      "-I- 414 records written to specimens file\n",
      "-I- specimens written to  /Users/Laurentia/0000_Github/2018_Red_Bed_Intraclasts/Data/combined_MagIC/upload.txt\n",
      "Finished preparing upload file: /Users/Laurentia/0000_Github/2018_Red_Bed_Intraclasts/Data/combined_MagIC/Bad-River,-Wisconsin_22.Apr.2019_1.txt \n",
      "-I- Your file has passed validation.  You should be able to upload it to the MagIC database without trouble!\n"
     ]
    },
    {
     "data": {
      "text/plain": [
       "('/Users/Laurentia/0000_Github/2018_Red_Bed_Intraclasts/Data/combined_MagIC/Bad-River,-Wisconsin_22.Apr.2019_1.txt',\n",
       " '',\n",
       " None,\n",
       " None)"
      ]
     },
     "execution_count": 13,
     "metadata": {},
     "output_type": "execute_result"
    }
   ],
   "source": [
    "ipmag.upload_magic(dir_path='./combined_MagIC/')"
   ]
  },
  {
   "cell_type": "code",
   "execution_count": null,
   "metadata": {},
   "outputs": [],
   "source": []
  }
 ],
 "metadata": {
  "kernelspec": {
   "display_name": "Python 3",
   "language": "python",
   "name": "python3"
  },
  "language_info": {
   "codemirror_mode": {
    "name": "ipython",
    "version": 3
   },
   "file_extension": ".py",
   "mimetype": "text/x-python",
   "name": "python",
   "nbconvert_exporter": "python",
   "pygments_lexer": "ipython3",
   "version": "3.6.7"
  }
 },
 "nbformat": 4,
 "nbformat_minor": 2
}
